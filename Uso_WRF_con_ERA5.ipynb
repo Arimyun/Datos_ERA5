{
 "cells": [
  {
   "cell_type": "markdown",
   "metadata": {},
   "source": [
    "# Ejecución de WRF con datos ERA5\n"
   ]
  },
  {
   "attachments": {
    "Cap.png": {
     "image/png": "[encoded data removed]"
    }
   },
   "cell_type": "markdown",
   "metadata": {},
   "source": [
    "Para poder realizar simulaciones en WRF con datos ERA5 se deben realizar los siguientes pasos:\n",
    "\n",
    "\n",
    "* Se ejecuta geogrid.exe como se realiza de manera habitual.\n",
    "\n",
    "* Luego se debe copiar el archivo llamado: link\\_grib.csh en nuestra carpeta de salida. Este archivo se encuentra en la carpeta WPS, luego en la terminal donde estamos trabajando se escribe lo siguiente:\n",
    " \n",
    "         ./link_grib.csh /path/donde/estan/los/datos/era5\n",
    "\n",
    "\n",
    "* Al momento de ejecutar ungrib.exe es necesario utilizar el Vtable denominado Vtable_ERA5. \n",
    "\n",
    "\n",
    "* Luego, se debe linkear el archivo calc\\_ecmwf\\_p.exe, ubicado en la carpeta util de WPS, para asi ejecutar dicho archivo utilizando el ecmwf\\_coeffs table.\n",
    "\n",
    "\n",
    "* Después se tiene que editar el archivo namelist.wps, agregando en la parte de metgrid, en fg\\_name, la palabra **'PRES',** , luego de **'FILE'**, es importante que se deba incluir la coma **(,)** sino no funcionará la ejecución de metgrid.exe. Ver la siguiente figura en caso de dudas.\n",
    "\n",
    "![Cap.png](attachment:Cap.png)\n",
    "\n",
    "  \n",
    "* Posteriormente, se procede a ejecutar metgrid.exe utilizando como table el METGRID.TBL.ARW.\n",
    "\n",
    "* Finalmente se puede ejecutar real.exe y wrf.exe sin tener dificultades. \n"
   ]
  }
 ],
 "metadata": {
  "kernelspec": {
   "display_name": "Python 3",
   "language": "python",
   "name": "python3"
  },
  "language_info": {
   "codemirror_mode": {
    "name": "ipython",
    "version": 3
   },
   "file_extension": ".py",
   "mimetype": "text/x-python",
   "name": "python",
   "nbconvert_exporter": "python",
   "pygments_lexer": "ipython3",
   "version": "3.7.3"
  }
 },
 "nbformat": 4,
 "nbformat_minor": 2
}
