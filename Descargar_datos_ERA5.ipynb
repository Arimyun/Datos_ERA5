{
 "cells": [
  {
   "cell_type": "markdown",
   "metadata": {},
   "source": [
    "# Descargar datos ERA5"
   ]
  },
  {
   "cell_type": "markdown",
   "metadata": {},
   "source": [
    "* Para poder descargar los datos ERA5 es necesario crear una cuenta en CLIMATE DATA STORE (https://cds.climate.copernicus.eu/#!/home).\n",
    "- Una vez obtenida la cuenta, se debe crear un archivo llamado .cdsapirc en tu carpeta personal ubicada en el directorio home. El archivo debe contener las siguientes líneas: \n",
    "\n",
    "\n",
    "$\n",
    "  \\phantom{espacio} url: https://cds.climate.copernicus.eu/api/v2 \\\\  
       \\phantom{espacio} key: UID:API Key\n",
    "$\n",
    "      \n",
    "      \n",
    "      \n",
    "      \n",
    "      \n",
    "      \n",
    "      \n",
    "      \n",
    "      \n",
    "      \n",
    "      Por ejemplo: \n",
    "$ \n",
    "   \\phantom{espacio}     url: https://cds.climate.copernicus.eu/api/v2\\\\\n",
    "    \\phantom{espacio}    key: 12345:aa123456-78aa-912a-34a5-a6aa7aaaa89a\n",
    "$\n",
    "\n",
    " La llave la puedes encontrar en tu perfil, haz click en tu nombre y baja hasta encontrar una sección denominada API KEY. Ahí puedes encontrar tu UID y tu api key.\n",
    " "
   ]
  },
  {
   "cell_type": "markdown",
   "metadata": {},
   "source": [
    " Para poder descargar estos datos será necesario instalar: \n",
    " \n",
    "**Anaconda 3:** Se puede descargar del siguiente link: https://www.anaconda.com/distribution/\n",
    "     \n",
    "**Cmake:** Se puede instalar utilizando la siguiente linea de comando: **sudo apt-get install cmake**\n",
    " \n",
    "**Eccodes:** Es un paquete desarrollado por ECMWF. EcCodes proporciona una interfaz de programación de aplicaciones y un conjunto de herramientas para decodificar y codificar mensajes en los siguientes formatos: \n",
    "\n",
    "       - WMO FM-92 GRIB edición 1 y edición 2\n",
    "       - WMO FM-94 BUFR edición 3 y edición 4\n",
    "       - Encabezado abreviado WMO GTS (solo decodificación).\n",
    "\n",
    "Para instalar ecCodes se debe realizar lo siguiente: \n",
    "Primero debemos descargar ecCodes en el siguiente link: https://confluence.ecmwf.int//display/ECC/Releases. En este link podremos encontrar distintas versiones. Una vez descargado el paquete abrimos una terminal en la carpeta donde se descargo ecCodes y realizamos los siguientes comandos: \n",
    "\n",
    "   - Primero descomprimimos el archivo escribiendo lo siguiente: \n",
    "   \n",
    "  **tar -xzf  eccodes-x.y.z-Source.tar.gz** \n",
    "  \n",
    "        Donde x.y.z es el número de la versión descargada.\n",
    "        \n",
    "\n",
    "   * Luego creamos una carpeta denominada build e ingresamos a ella:\n",
    "      \n",
    "   **mkdir build ; cd build**\n",
    "   \n",
    "      \n",
    "   * Una vez ingresado al directorio build, escribimos lo siguiente: \n",
    "   \n",
    "   **cmake -DCMAKE\\_INSTALL\\_PREFIX=/path/to/where/you/install/eccodes/../eccodes-x.y.z-Source**\n",
    "   \n",
    "       Por ejemplo: \n",
    "   \n",
    "   **cmake -DCMAKE\\_INSTALL\\_PREFIX=/home/jessica/../eccodes-2.13.1-Source**    \n",
    "   \n",
    "   \n",
    "   * Luego escribimos:  \n",
    "    \n",
    "   **make**\n",
    "          \n",
    "          \n",
    "   * Después\n",
    "  \n",
    "   **ctest**\n",
    "   \n",
    "   \n",
    "   * Y finalmente\n",
    "      \n",
    "   **make install**\n",
    " \n",
    "**Cdsapi:** \n",
    "     CDS  API  es  una  librería  basada  en  Python.   Proporciona  soporte  para  Python 2.7.xy y Python 3.\n",
    "    Para instalarlo se debe escribir lo siguiente en la terminal:  pip install cdsapi "
   ]
  },
  {
   "cell_type": "markdown",
   "metadata": {},
   "source": [
    " * Una vez creado el archivo .cdsapirc e instalado lo anterior, se procede a correr el script denominado **getERA5.sh** (recordar dar los permisos para ejecutarlo y además modificar los path). Para ejecutar este archivo es necesario tener los archivos python denominados **GetERA5-sfc.py** y **GetERA5-ml.py**\n",
    " \n",
    " \n",
    " * Luego se ejecuta el script **postprocesamiento.sh** (recordar dar los permisos para ejecutarlo y modificar los path). \n",
    " \n",
    " \n",
    " "
   ]
  }
 ],
 "metadata": {
  "kernelspec": {
   "display_name": "Python 3",
   "language": "python",
   "name": "python3"
  },
  "language_info": {
   "codemirror_mode": {
    "name": "ipython",
    "version": 3
   },
   "file_extension": ".py",
   "mimetype": "text/x-python",
   "name": "python",
   "nbconvert_exporter": "python",
   "pygments_lexer": "ipython3",
   "version": "3.7.3"
  }
 },
 "nbformat": 4,
 "nbformat_minor": 2
}
